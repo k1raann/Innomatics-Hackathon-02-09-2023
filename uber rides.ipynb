{
 "cells": [
  {
   "cell_type": "code",
   "execution_count": 1,
   "id": "d40623c0",
   "metadata": {},
   "outputs": [],
   "source": [
    "import numpy as np\n",
    "import pandas as pd\n",
    "import matplotlib.pyplot as plt\n",
    "import seaborn as sns\n",
    "import math"
   ]
  },
  {
   "cell_type": "markdown",
   "id": "1d9f9c43",
   "metadata": {},
   "source": [
    "### Data Collection"
   ]
  },
  {
   "cell_type": "code",
   "execution_count": 134,
   "id": "3774b9f3",
   "metadata": {},
   "outputs": [],
   "source": [
    "df=pd.read_excel('uber_rides_data.xlsx') "
   ]
  },
  {
   "cell_type": "code",
   "execution_count": 135,
   "id": "74485dbb",
   "metadata": {
    "scrolled": true
   },
   "outputs": [
    {
     "name": "stdout",
     "output_type": "stream",
     "text": [
      "<class 'pandas.core.frame.DataFrame'>\n",
      "RangeIndex: 200000 entries, 0 to 199999\n",
      "Data columns (total 8 columns):\n",
      " #   Column             Non-Null Count   Dtype  \n",
      "---  ------             --------------   -----  \n",
      " 0   ride_id            200000 non-null  int64  \n",
      " 1   fare_amount        200000 non-null  float64\n",
      " 2   pickup_datetime    200000 non-null  object \n",
      " 3   pickup_longitude   200000 non-null  float64\n",
      " 4   pickup_latitude    200000 non-null  float64\n",
      " 5   dropoff_longitude  199999 non-null  float64\n",
      " 6   dropoff_latitude   199999 non-null  float64\n",
      " 7   passenger_count    200000 non-null  int64  \n",
      "dtypes: float64(5), int64(2), object(1)\n",
      "memory usage: 12.2+ MB\n"
     ]
    }
   ],
   "source": [
    "df.info() #information about the amount of data and datatypes "
   ]
  },
  {
   "cell_type": "code",
   "execution_count": 136,
   "id": "8e6df483",
   "metadata": {},
   "outputs": [
    {
     "data": {
      "text/html": [
       "<div>\n",
       "<style scoped>\n",
       "    .dataframe tbody tr th:only-of-type {\n",
       "        vertical-align: middle;\n",
       "    }\n",
       "\n",
       "    .dataframe tbody tr th {\n",
       "        vertical-align: top;\n",
       "    }\n",
       "\n",
       "    .dataframe thead th {\n",
       "        text-align: right;\n",
       "    }\n",
       "</style>\n",
       "<table border=\"1\" class=\"dataframe\">\n",
       "  <thead>\n",
       "    <tr style=\"text-align: right;\">\n",
       "      <th></th>\n",
       "      <th>ride_id</th>\n",
       "      <th>fare_amount</th>\n",
       "      <th>pickup_datetime</th>\n",
       "      <th>pickup_longitude</th>\n",
       "      <th>pickup_latitude</th>\n",
       "      <th>dropoff_longitude</th>\n",
       "      <th>dropoff_latitude</th>\n",
       "      <th>passenger_count</th>\n",
       "    </tr>\n",
       "  </thead>\n",
       "  <tbody>\n",
       "    <tr>\n",
       "      <th>0</th>\n",
       "      <td>24238194</td>\n",
       "      <td>7.5</td>\n",
       "      <td>2015-05-07 19:52:06 UTC</td>\n",
       "      <td>-73.999817</td>\n",
       "      <td>40.738354</td>\n",
       "      <td>-73.999512</td>\n",
       "      <td>40.723217</td>\n",
       "      <td>1</td>\n",
       "    </tr>\n",
       "    <tr>\n",
       "      <th>1</th>\n",
       "      <td>27835199</td>\n",
       "      <td>7.7</td>\n",
       "      <td>2009-07-17 20:04:56 UTC</td>\n",
       "      <td>-73.994355</td>\n",
       "      <td>40.728225</td>\n",
       "      <td>-73.994710</td>\n",
       "      <td>40.750325</td>\n",
       "      <td>1</td>\n",
       "    </tr>\n",
       "    <tr>\n",
       "      <th>2</th>\n",
       "      <td>44984355</td>\n",
       "      <td>12.9</td>\n",
       "      <td>2009-08-24 21:45:00 UTC</td>\n",
       "      <td>-74.005043</td>\n",
       "      <td>40.740770</td>\n",
       "      <td>-73.962565</td>\n",
       "      <td>40.772647</td>\n",
       "      <td>1</td>\n",
       "    </tr>\n",
       "    <tr>\n",
       "      <th>3</th>\n",
       "      <td>25894730</td>\n",
       "      <td>5.3</td>\n",
       "      <td>2009-06-26 08:22:21 UTC</td>\n",
       "      <td>-73.976124</td>\n",
       "      <td>40.790844</td>\n",
       "      <td>-73.965316</td>\n",
       "      <td>40.803349</td>\n",
       "      <td>3</td>\n",
       "    </tr>\n",
       "    <tr>\n",
       "      <th>4</th>\n",
       "      <td>17610152</td>\n",
       "      <td>16.0</td>\n",
       "      <td>2014-08-28 17:47:00 UTC</td>\n",
       "      <td>-73.925023</td>\n",
       "      <td>40.744085</td>\n",
       "      <td>-73.973082</td>\n",
       "      <td>40.761247</td>\n",
       "      <td>5</td>\n",
       "    </tr>\n",
       "  </tbody>\n",
       "</table>\n",
       "</div>"
      ],
      "text/plain": [
       "    ride_id  fare_amount          pickup_datetime  pickup_longitude  \\\n",
       "0  24238194          7.5  2015-05-07 19:52:06 UTC        -73.999817   \n",
       "1  27835199          7.7  2009-07-17 20:04:56 UTC        -73.994355   \n",
       "2  44984355         12.9  2009-08-24 21:45:00 UTC        -74.005043   \n",
       "3  25894730          5.3  2009-06-26 08:22:21 UTC        -73.976124   \n",
       "4  17610152         16.0  2014-08-28 17:47:00 UTC        -73.925023   \n",
       "\n",
       "   pickup_latitude  dropoff_longitude  dropoff_latitude  passenger_count  \n",
       "0        40.738354         -73.999512         40.723217                1  \n",
       "1        40.728225         -73.994710         40.750325                1  \n",
       "2        40.740770         -73.962565         40.772647                1  \n",
       "3        40.790844         -73.965316         40.803349                3  \n",
       "4        40.744085         -73.973082         40.761247                5  "
      ]
     },
     "execution_count": 136,
     "metadata": {},
     "output_type": "execute_result"
    }
   ],
   "source": [
    "df.head()"
   ]
  },
  {
   "cell_type": "code",
   "execution_count": 137,
   "id": "85448907",
   "metadata": {},
   "outputs": [
    {
     "data": {
      "text/plain": [
       "(200000, 8)"
      ]
     },
     "execution_count": 137,
     "metadata": {},
     "output_type": "execute_result"
    }
   ],
   "source": [
    "df.shape"
   ]
  },
  {
   "cell_type": "markdown",
   "id": "732a2ff9",
   "metadata": {},
   "source": [
    "### Data cleansing and Manipulation"
   ]
  },
  {
   "cell_type": "code",
   "execution_count": 138,
   "id": "4ee7059b",
   "metadata": {},
   "outputs": [],
   "source": [
    "df['pickup_datetime']=pd.to_datetime(df[\"pickup_datetime\"])"
   ]
  },
  {
   "cell_type": "code",
   "execution_count": 139,
   "id": "341099e3",
   "metadata": {},
   "outputs": [],
   "source": [
    "df.dropna(inplace=True)"
   ]
  },
  {
   "cell_type": "markdown",
   "id": "6ff47695",
   "metadata": {},
   "source": [
    "##### avg. fare amount calculation"
   ]
  },
  {
   "cell_type": "code",
   "execution_count": 140,
   "id": "b00ac48e",
   "metadata": {},
   "outputs": [
    {
     "data": {
      "text/plain": [
       "11.359891549458371"
      ]
     },
     "execution_count": 140,
     "metadata": {},
     "output_type": "execute_result"
    }
   ],
   "source": [
    "df['fare_amount'].mean()"
   ]
  },
  {
   "cell_type": "markdown",
   "id": "679d3b68",
   "metadata": {},
   "source": [
    "##### haversine distance calculation"
   ]
  },
  {
   "cell_type": "code",
   "execution_count": 141,
   "id": "adc2b78c",
   "metadata": {},
   "outputs": [],
   "source": [
    "from sklearn.metrics.pairwise import haversine_distances"
   ]
  },
  {
   "cell_type": "code",
   "execution_count": 142,
   "id": "df293bfa",
   "metadata": {},
   "outputs": [],
   "source": [
    "from math import radians"
   ]
  },
  {
   "cell_type": "code",
   "execution_count": 143,
   "id": "f548d1a1",
   "metadata": {},
   "outputs": [],
   "source": [
    "pickup_longitude = [radians(_) for _ in df.pickup_longitude]\n",
    "pickup_latitude =  [radians(_) for _ in df.pickup_latitude]\n",
    "dropoff_longitude = [radians(_) for _ in df.dropoff_longitude] \n",
    "dropoff_latitude = [radians(_) for _ in df.dropoff_latitude]"
   ]
  },
  {
   "cell_type": "code",
   "execution_count": 145,
   "id": "fc0b092f",
   "metadata": {},
   "outputs": [],
   "source": [
    "pickup = [(lat,long) for lat,long in zip(pickup_latitude, pickup_longitude)]\n",
    "          \n",
    "dropoff = [(lat,long) for lat,long in zip(dropoff_latitude, dropoff_longitude)]"
   ]
  },
  {
   "cell_type": "code",
   "execution_count": 146,
   "id": "4515a725",
   "metadata": {},
   "outputs": [],
   "source": [
    "haversine_dist = [haversine_distances([i, j]) for i,j in zip(pickup,dropoff)]  "
   ]
  },
  {
   "cell_type": "code",
   "execution_count": 147,
   "id": "e5444943",
   "metadata": {},
   "outputs": [],
   "source": [
    "d = np.array(haversine_dist)*6371000/1000"
   ]
  },
  {
   "cell_type": "markdown",
   "id": "feabe1ef",
   "metadata": {},
   "source": [
    "##### haversine distance median"
   ]
  },
  {
   "cell_type": "code",
   "execution_count": 148,
   "id": "29c475ef",
   "metadata": {},
   "outputs": [
    {
     "data": {
      "text/plain": [
       "2.120992396182902"
      ]
     },
     "execution_count": 148,
     "metadata": {},
     "output_type": "execute_result"
    }
   ],
   "source": [
    "d1= [(i[0][1]) for i in d]\n",
    "np.median(d1)"
   ]
  },
  {
   "cell_type": "markdown",
   "id": "c1582094",
   "metadata": {},
   "source": [
    "##### Max. of haversine distances"
   ]
  },
  {
   "cell_type": "code",
   "execution_count": 149,
   "id": "1d8776bb",
   "metadata": {},
   "outputs": [
    {
     "data": {
      "text/plain": [
       "16409.239135313168"
      ]
     },
     "execution_count": 149,
     "metadata": {},
     "output_type": "execute_result"
    }
   ],
   "source": [
    "max(d1)"
   ]
  },
  {
   "cell_type": "markdown",
   "id": "bdec98ae",
   "metadata": {},
   "source": [
    "##### count of haversine distance = 0"
   ]
  },
  {
   "cell_type": "code",
   "execution_count": 150,
   "id": "78539b77",
   "metadata": {},
   "outputs": [
    {
     "data": {
      "text/plain": [
       "5632"
      ]
     },
     "execution_count": 150,
     "metadata": {},
     "output_type": "execute_result"
    }
   ],
   "source": [
    "d1.count(0)"
   ]
  },
  {
   "cell_type": "code",
   "execution_count": 205,
   "id": "b13ac4de",
   "metadata": {},
   "outputs": [],
   "source": [
    "dfc=df.copy()"
   ]
  },
  {
   "cell_type": "code",
   "execution_count": 206,
   "id": "0689063a",
   "metadata": {},
   "outputs": [],
   "source": [
    "dfc.drop(columns = [\"pickup_longitude\",\"pickup_latitude\",\"dropoff_longitude\",\"dropoff_latitude\"],inplace=True)"
   ]
  },
  {
   "cell_type": "code",
   "execution_count": 207,
   "id": "2976d775",
   "metadata": {},
   "outputs": [],
   "source": [
    "dfc[\"distance\"] = np.round(d1,6)"
   ]
  },
  {
   "cell_type": "code",
   "execution_count": 208,
   "id": "816973d4",
   "metadata": {},
   "outputs": [
    {
     "data": {
      "text/html": [
       "<div>\n",
       "<style scoped>\n",
       "    .dataframe tbody tr th:only-of-type {\n",
       "        vertical-align: middle;\n",
       "    }\n",
       "\n",
       "    .dataframe tbody tr th {\n",
       "        vertical-align: top;\n",
       "    }\n",
       "\n",
       "    .dataframe thead th {\n",
       "        text-align: right;\n",
       "    }\n",
       "</style>\n",
       "<table border=\"1\" class=\"dataframe\">\n",
       "  <thead>\n",
       "    <tr style=\"text-align: right;\">\n",
       "      <th></th>\n",
       "      <th>ride_id</th>\n",
       "      <th>fare_amount</th>\n",
       "      <th>pickup_datetime</th>\n",
       "      <th>passenger_count</th>\n",
       "      <th>distance</th>\n",
       "    </tr>\n",
       "  </thead>\n",
       "  <tbody>\n",
       "    <tr>\n",
       "      <th>0</th>\n",
       "      <td>24238194</td>\n",
       "      <td>7.5</td>\n",
       "      <td>2015-05-07 19:52:06+00:00</td>\n",
       "      <td>1</td>\n",
       "      <td>1.683323</td>\n",
       "    </tr>\n",
       "    <tr>\n",
       "      <th>1</th>\n",
       "      <td>27835199</td>\n",
       "      <td>7.7</td>\n",
       "      <td>2009-07-17 20:04:56+00:00</td>\n",
       "      <td>1</td>\n",
       "      <td>2.457590</td>\n",
       "    </tr>\n",
       "    <tr>\n",
       "      <th>2</th>\n",
       "      <td>44984355</td>\n",
       "      <td>12.9</td>\n",
       "      <td>2009-08-24 21:45:00+00:00</td>\n",
       "      <td>1</td>\n",
       "      <td>5.036377</td>\n",
       "    </tr>\n",
       "    <tr>\n",
       "      <th>3</th>\n",
       "      <td>25894730</td>\n",
       "      <td>5.3</td>\n",
       "      <td>2009-06-26 08:22:21+00:00</td>\n",
       "      <td>3</td>\n",
       "      <td>1.661683</td>\n",
       "    </tr>\n",
       "    <tr>\n",
       "      <th>4</th>\n",
       "      <td>17610152</td>\n",
       "      <td>16.0</td>\n",
       "      <td>2014-08-28 17:47:00+00:00</td>\n",
       "      <td>5</td>\n",
       "      <td>4.475450</td>\n",
       "    </tr>\n",
       "  </tbody>\n",
       "</table>\n",
       "</div>"
      ],
      "text/plain": [
       "    ride_id  fare_amount           pickup_datetime  passenger_count  distance\n",
       "0  24238194          7.5 2015-05-07 19:52:06+00:00                1  1.683323\n",
       "1  27835199          7.7 2009-07-17 20:04:56+00:00                1  2.457590\n",
       "2  44984355         12.9 2009-08-24 21:45:00+00:00                1  5.036377\n",
       "3  25894730          5.3 2009-06-26 08:22:21+00:00                3  1.661683\n",
       "4  17610152         16.0 2014-08-28 17:47:00+00:00                5  4.475450"
      ]
     },
     "execution_count": 208,
     "metadata": {},
     "output_type": "execute_result"
    }
   ],
   "source": [
    "dfc.head()"
   ]
  },
  {
   "cell_type": "markdown",
   "id": "a483a79e",
   "metadata": {},
   "source": [
    "##### mean fare of haversine distance = 0"
   ]
  },
  {
   "cell_type": "code",
   "execution_count": 209,
   "id": "cfe3deea",
   "metadata": {},
   "outputs": [
    {
     "data": {
      "text/plain": [
       "11.585317826704578"
      ]
     },
     "execution_count": 209,
     "metadata": {},
     "output_type": "execute_result"
    }
   ],
   "source": [
    "dfc[dfc.distance==0]['fare_amount'].mean()"
   ]
  },
  {
   "cell_type": "markdown",
   "id": "6c1965c4",
   "metadata": {},
   "source": [
    "### Ideally, when the distance is zero, fare amount must be zero and so must be the average. But, the avg. fare amount for rides with zero distance is 11.585."
   ]
  },
  {
   "cell_type": "markdown",
   "id": "c80306ae",
   "metadata": {},
   "source": [
    "##### max. of fare amount"
   ]
  },
  {
   "cell_type": "code",
   "execution_count": 210,
   "id": "8d22246f",
   "metadata": {},
   "outputs": [
    {
     "data": {
      "text/plain": [
       "499.0"
      ]
     },
     "execution_count": 210,
     "metadata": {},
     "output_type": "execute_result"
    }
   ],
   "source": [
    "dfc.fare_amount.max()"
   ]
  },
  {
   "cell_type": "markdown",
   "id": "9464cca3",
   "metadata": {},
   "source": [
    "##### distance of max. fare"
   ]
  },
  {
   "cell_type": "code",
   "execution_count": 211,
   "id": "b1746716",
   "metadata": {},
   "outputs": [
    {
     "data": {
      "text/plain": [
       "170081    0.00079\n",
       "Name: distance, dtype: float64"
      ]
     },
     "execution_count": 211,
     "metadata": {},
     "output_type": "execute_result"
    }
   ],
   "source": [
    "dfc[dfc.fare_amount == dfc.fare_amount.max()][\"distance\"]"
   ]
  },
  {
   "cell_type": "markdown",
   "id": "9c735dce",
   "metadata": {},
   "source": [
    "#####  no. of rides in 2014"
   ]
  },
  {
   "cell_type": "code",
   "execution_count": 212,
   "id": "59f8c8a7",
   "metadata": {},
   "outputs": [
    {
     "data": {
      "text/plain": [
       "29968"
      ]
     },
     "execution_count": 212,
     "metadata": {},
     "output_type": "execute_result"
    }
   ],
   "source": [
    "df_2014 = dfc[dfc.pickup_datetime.dt.year == 2014]\n",
    "len(df_2014)"
   ]
  },
  {
   "cell_type": "markdown",
   "id": "c3f59faa",
   "metadata": {},
   "source": [
    "##### no. of rides in first quarter of 2014"
   ]
  },
  {
   "cell_type": "code",
   "execution_count": 213,
   "id": "38f94db1",
   "metadata": {},
   "outputs": [
    {
     "name": "stderr",
     "output_type": "stream",
     "text": [
      "C:\\Users\\krant\\AppData\\Local\\Temp\\ipykernel_1508\\3763897792.py:1: UserWarning: Boolean Series key will be reindexed to match DataFrame index.\n",
      "  len(df_2014[dfc.pickup_datetime.dt.quarter == 1])\n"
     ]
    },
    {
     "data": {
      "text/plain": [
       "7687"
      ]
     },
     "execution_count": 213,
     "metadata": {},
     "output_type": "execute_result"
    }
   ],
   "source": [
    "len(df_2014[dfc.pickup_datetime.dt.quarter == 1])"
   ]
  },
  {
   "cell_type": "code",
   "execution_count": 214,
   "id": "7c9ccc9f",
   "metadata": {},
   "outputs": [],
   "source": [
    "df_sep_2010 = dfc[(dfc.pickup_datetime.dt.year == 2010) & (dfc.pickup_datetime.dt.month == 9)]"
   ]
  },
  {
   "cell_type": "code",
   "execution_count": 215,
   "id": "ab31f7bb",
   "metadata": {},
   "outputs": [
    {
     "name": "stderr",
     "output_type": "stream",
     "text": [
      "C:\\Users\\krant\\AppData\\Local\\Temp\\ipykernel_1508\\1091979669.py:1: SettingWithCopyWarning: \n",
      "A value is trying to be set on a copy of a slice from a DataFrame.\n",
      "Try using .loc[row_indexer,col_indexer] = value instead\n",
      "\n",
      "See the caveats in the documentation: https://pandas.pydata.org/pandas-docs/stable/user_guide/indexing.html#returning-a-view-versus-a-copy\n",
      "  df_sep_2010['dayofweek'] = df_sep_2010.pickup_datetime.dt.dayofweek\n"
     ]
    }
   ],
   "source": [
    "df_sep_2010['dayofweek'] = df_sep_2010.pickup_datetime.dt.dayofweek"
   ]
  },
  {
   "cell_type": "markdown",
   "id": "b66a51bf",
   "metadata": {},
   "source": [
    "##### ride distribution by day of week in september 2010"
   ]
  },
  {
   "cell_type": "code",
   "execution_count": 216,
   "id": "bca1f7c7",
   "metadata": {},
   "outputs": [
    {
     "data": {
      "text/plain": [
       "dayofweek\n",
       "0    265\n",
       "1    322\n",
       "2    391\n",
       "3    457\n",
       "4    354\n",
       "5    362\n",
       "6    331\n",
       "Name: dayofweek, dtype: int64"
      ]
     },
     "execution_count": 216,
     "metadata": {},
     "output_type": "execute_result"
    }
   ],
   "source": [
    "df_sep_2010.groupby(\"dayofweek\").dayofweek.count()"
   ]
  },
  {
   "cell_type": "code",
   "execution_count": 217,
   "id": "956beb42",
   "metadata": {},
   "outputs": [],
   "source": [
    "dfc['ride_week_day'] = dfc.pickup_datetime.dt.dayofweek"
   ]
  },
  {
   "cell_type": "code",
   "execution_count": 218,
   "id": "27de74d0",
   "metadata": {},
   "outputs": [],
   "source": [
    "dfc.drop(['ride_id','pickup_datetime'], axis=1, inplace=True)"
   ]
  },
  {
   "cell_type": "code",
   "execution_count": 219,
   "id": "e8cdd716",
   "metadata": {},
   "outputs": [
    {
     "data": {
      "text/html": [
       "<div>\n",
       "<style scoped>\n",
       "    .dataframe tbody tr th:only-of-type {\n",
       "        vertical-align: middle;\n",
       "    }\n",
       "\n",
       "    .dataframe tbody tr th {\n",
       "        vertical-align: top;\n",
       "    }\n",
       "\n",
       "    .dataframe thead th {\n",
       "        text-align: right;\n",
       "    }\n",
       "</style>\n",
       "<table border=\"1\" class=\"dataframe\">\n",
       "  <thead>\n",
       "    <tr style=\"text-align: right;\">\n",
       "      <th></th>\n",
       "      <th>fare_amount</th>\n",
       "      <th>passenger_count</th>\n",
       "      <th>distance</th>\n",
       "      <th>ride_week_day</th>\n",
       "    </tr>\n",
       "  </thead>\n",
       "  <tbody>\n",
       "    <tr>\n",
       "      <th>0</th>\n",
       "      <td>7.5</td>\n",
       "      <td>1</td>\n",
       "      <td>1.683323</td>\n",
       "      <td>3</td>\n",
       "    </tr>\n",
       "    <tr>\n",
       "      <th>1</th>\n",
       "      <td>7.7</td>\n",
       "      <td>1</td>\n",
       "      <td>2.457590</td>\n",
       "      <td>4</td>\n",
       "    </tr>\n",
       "    <tr>\n",
       "      <th>2</th>\n",
       "      <td>12.9</td>\n",
       "      <td>1</td>\n",
       "      <td>5.036377</td>\n",
       "      <td>0</td>\n",
       "    </tr>\n",
       "    <tr>\n",
       "      <th>3</th>\n",
       "      <td>5.3</td>\n",
       "      <td>3</td>\n",
       "      <td>1.661683</td>\n",
       "      <td>4</td>\n",
       "    </tr>\n",
       "    <tr>\n",
       "      <th>4</th>\n",
       "      <td>16.0</td>\n",
       "      <td>5</td>\n",
       "      <td>4.475450</td>\n",
       "      <td>3</td>\n",
       "    </tr>\n",
       "  </tbody>\n",
       "</table>\n",
       "</div>"
      ],
      "text/plain": [
       "   fare_amount  passenger_count  distance  ride_week_day\n",
       "0          7.5                1  1.683323              3\n",
       "1          7.7                1  2.457590              4\n",
       "2         12.9                1  5.036377              0\n",
       "3          5.3                3  1.661683              4\n",
       "4         16.0                5  4.475450              3"
      ]
     },
     "execution_count": 219,
     "metadata": {},
     "output_type": "execute_result"
    }
   ],
   "source": [
    "dfc.head()"
   ]
  },
  {
   "cell_type": "code",
   "execution_count": 220,
   "id": "b45dfec4",
   "metadata": {},
   "outputs": [
    {
     "data": {
      "text/plain": [
       "199999"
      ]
     },
     "execution_count": 220,
     "metadata": {},
     "output_type": "execute_result"
    }
   ],
   "source": [
    "len(dfc)"
   ]
  },
  {
   "cell_type": "code",
   "execution_count": 221,
   "id": "81646b76",
   "metadata": {},
   "outputs": [],
   "source": [
    "dfc.drop_duplicates(inplace = True)"
   ]
  },
  {
   "cell_type": "code",
   "execution_count": 222,
   "id": "38a68360",
   "metadata": {},
   "outputs": [
    {
     "data": {
      "text/plain": [
       "196166"
      ]
     },
     "execution_count": 222,
     "metadata": {},
     "output_type": "execute_result"
    }
   ],
   "source": [
    "len(dfc)"
   ]
  },
  {
   "cell_type": "code",
   "execution_count": 223,
   "id": "8009d24b",
   "metadata": {},
   "outputs": [
    {
     "data": {
      "image/png": "[encoded data removed]",
      "text/plain": [
       "<Figure size 640x480 with 1 Axes>"
      ]
     },
     "metadata": {},
     "output_type": "display_data"
    }
   ],
   "source": [
    "dfc.boxplot()\n",
    "plt.show()"
   ]
  },
  {
   "cell_type": "markdown",
   "id": "948bb1e7",
   "metadata": {},
   "source": [
    "##### handling outliers"
   ]
  },
  {
   "cell_type": "code",
   "execution_count": 860,
   "id": "24336571",
   "metadata": {},
   "outputs": [],
   "source": [
    "def check_and_handle_outliers(col):\n",
    "    q1 = dfc[col].quantile(q = 0.25)\n",
    "    q3 = dfc[col].quantile(q = 0.75)\n",
    "    iqr = q3 - q1\n",
    "    lower_boundary = q1 - (1.5 * iqr)\n",
    "    upper_boundary = q3 + (1.5 * iqr)\n",
    "    dfc[dfc[col] < lower_boundary]\n",
    "    outliers = dfc[(dfc[col] < lower_boundary) | (dfc[col] > upper_boundary)]\n",
    "    if len(outliers)>0 and ((len(outliers)//len(dfc))<(0.02*len(dfc))):\n",
    "        print(f\"{len(outliers)} Outliers Detected in {col}\")\n",
    "        remove_outliers(outliers,col,lower_boundary,upper_boundary)\n",
    "    return "
   ]
  },
  {
   "cell_type": "code",
   "execution_count": 861,
   "id": "dba6f2bf",
   "metadata": {},
   "outputs": [],
   "source": [
    "def remove_outliers(outliers,col,lower_boundary,upper_boundary):\n",
    "    for idx in outliers.index:\n",
    "        val = dfc.loc[idx,col]\n",
    "        if (val < lower_boundary):\n",
    "            dfc.loc[idx,col] = lower_boundary\n",
    "        elif (val > upper_boundary):\n",
    "            dfc.loc[idx,col] = upper_boundary\n",
    "    print(f\"outliers handled for {col}\")\n",
    "    return "
   ]
  },
  {
   "cell_type": "code",
   "execution_count": 226,
   "id": "532de290",
   "metadata": {},
   "outputs": [
    {
     "data": {
      "text/html": [
       "<div>\n",
       "<style scoped>\n",
       "    .dataframe tbody tr th:only-of-type {\n",
       "        vertical-align: middle;\n",
       "    }\n",
       "\n",
       "    .dataframe tbody tr th {\n",
       "        vertical-align: top;\n",
       "    }\n",
       "\n",
       "    .dataframe thead th {\n",
       "        text-align: right;\n",
       "    }\n",
       "</style>\n",
       "<table border=\"1\" class=\"dataframe\">\n",
       "  <thead>\n",
       "    <tr style=\"text-align: right;\">\n",
       "      <th></th>\n",
       "      <th>fare_amount</th>\n",
       "      <th>passenger_count</th>\n",
       "      <th>distance</th>\n",
       "      <th>ride_week_day</th>\n",
       "    </tr>\n",
       "  </thead>\n",
       "  <tbody>\n",
       "    <tr>\n",
       "      <th>count</th>\n",
       "      <td>196166.000000</td>\n",
       "      <td>196166.000000</td>\n",
       "      <td>196166.000000</td>\n",
       "      <td>196166.000000</td>\n",
       "    </tr>\n",
       "    <tr>\n",
       "      <th>mean</th>\n",
       "      <td>11.411707</td>\n",
       "      <td>1.691109</td>\n",
       "      <td>21.262703</td>\n",
       "      <td>3.049025</td>\n",
       "    </tr>\n",
       "    <tr>\n",
       "      <th>std</th>\n",
       "      <td>9.936511</td>\n",
       "      <td>1.392449</td>\n",
       "      <td>386.676848</td>\n",
       "      <td>1.947039</td>\n",
       "    </tr>\n",
       "    <tr>\n",
       "      <th>min</th>\n",
       "      <td>-52.000000</td>\n",
       "      <td>0.000000</td>\n",
       "      <td>0.000000</td>\n",
       "      <td>0.000000</td>\n",
       "    </tr>\n",
       "    <tr>\n",
       "      <th>25%</th>\n",
       "      <td>6.000000</td>\n",
       "      <td>1.000000</td>\n",
       "      <td>1.259661</td>\n",
       "      <td>1.000000</td>\n",
       "    </tr>\n",
       "    <tr>\n",
       "      <th>50%</th>\n",
       "      <td>8.500000</td>\n",
       "      <td>1.000000</td>\n",
       "      <td>2.164470</td>\n",
       "      <td>3.000000</td>\n",
       "    </tr>\n",
       "    <tr>\n",
       "      <th>75%</th>\n",
       "      <td>12.500000</td>\n",
       "      <td>2.000000</td>\n",
       "      <td>3.931749</td>\n",
       "      <td>5.000000</td>\n",
       "    </tr>\n",
       "    <tr>\n",
       "      <th>max</th>\n",
       "      <td>499.000000</td>\n",
       "      <td>208.000000</td>\n",
       "      <td>16409.239135</td>\n",
       "      <td>6.000000</td>\n",
       "    </tr>\n",
       "  </tbody>\n",
       "</table>\n",
       "</div>"
      ],
      "text/plain": [
       "         fare_amount  passenger_count       distance  ride_week_day\n",
       "count  196166.000000    196166.000000  196166.000000  196166.000000\n",
       "mean       11.411707         1.691109      21.262703       3.049025\n",
       "std         9.936511         1.392449     386.676848       1.947039\n",
       "min       -52.000000         0.000000       0.000000       0.000000\n",
       "25%         6.000000         1.000000       1.259661       1.000000\n",
       "50%         8.500000         1.000000       2.164470       3.000000\n",
       "75%        12.500000         2.000000       3.931749       5.000000\n",
       "max       499.000000       208.000000   16409.239135       6.000000"
      ]
     },
     "execution_count": 226,
     "metadata": {},
     "output_type": "execute_result"
    }
   ],
   "source": [
    "dfc.describe()"
   ]
  },
  {
   "cell_type": "code",
   "execution_count": 366,
   "id": "93da4f9f",
   "metadata": {},
   "outputs": [
    {
     "name": "stdout",
     "output_type": "stream",
     "text": [
      "17054 Outliers Detected in fare_amount\n",
      "outliers handled for fare_amount\n",
      "22360 Outliers Detected in passenger_count\n",
      "outliers handled for passenger_count\n",
      "16518 Outliers Detected in distance\n",
      "outliers handled for distance\n"
     ]
    }
   ],
   "source": [
    "for col in dfc.select_dtypes(include=np.number).columns:\n",
    "    check_and_handle_outliers(col)"
   ]
  },
  {
   "cell_type": "code",
   "execution_count": 367,
   "id": "898a9ea6",
   "metadata": {},
   "outputs": [
    {
     "name": "stderr",
     "output_type": "stream",
     "text": [
      "C:\\Users\\krant\\AppData\\Local\\Temp\\ipykernel_1508\\50187627.py:1: UserWarning: Boolean Series key will be reindexed to match DataFrame index.\n",
      "  dfc[df.fare_amount<0]\n"
     ]
    },
    {
     "data": {
      "text/html": [
       "<div>\n",
       "<style scoped>\n",
       "    .dataframe tbody tr th:only-of-type {\n",
       "        vertical-align: middle;\n",
       "    }\n",
       "\n",
       "    .dataframe tbody tr th {\n",
       "        vertical-align: top;\n",
       "    }\n",
       "\n",
       "    .dataframe thead th {\n",
       "        text-align: right;\n",
       "    }\n",
       "</style>\n",
       "<table border=\"1\" class=\"dataframe\">\n",
       "  <thead>\n",
       "    <tr style=\"text-align: right;\">\n",
       "      <th></th>\n",
       "      <th>fare_amount</th>\n",
       "      <th>passenger_count</th>\n",
       "      <th>distance</th>\n",
       "      <th>ride_week_day</th>\n",
       "    </tr>\n",
       "  </thead>\n",
       "  <tbody>\n",
       "    <tr>\n",
       "      <th>63395</th>\n",
       "      <td>-3.75</td>\n",
       "      <td>1.0</td>\n",
       "      <td>0.325306</td>\n",
       "      <td>1</td>\n",
       "    </tr>\n",
       "    <tr>\n",
       "      <th>71246</th>\n",
       "      <td>-3.30</td>\n",
       "      <td>2.0</td>\n",
       "      <td>0.500646</td>\n",
       "      <td>3</td>\n",
       "    </tr>\n",
       "    <tr>\n",
       "      <th>79903</th>\n",
       "      <td>-3.50</td>\n",
       "      <td>1.0</td>\n",
       "      <td>0.383918</td>\n",
       "      <td>4</td>\n",
       "    </tr>\n",
       "    <tr>\n",
       "      <th>89322</th>\n",
       "      <td>-3.75</td>\n",
       "      <td>3.5</td>\n",
       "      <td>0.019203</td>\n",
       "      <td>1</td>\n",
       "    </tr>\n",
       "    <tr>\n",
       "      <th>92063</th>\n",
       "      <td>-3.75</td>\n",
       "      <td>3.0</td>\n",
       "      <td>7.939881</td>\n",
       "      <td>4</td>\n",
       "    </tr>\n",
       "    <tr>\n",
       "      <th>98875</th>\n",
       "      <td>-3.75</td>\n",
       "      <td>3.5</td>\n",
       "      <td>0.450054</td>\n",
       "      <td>4</td>\n",
       "    </tr>\n",
       "    <tr>\n",
       "      <th>104080</th>\n",
       "      <td>-3.75</td>\n",
       "      <td>1.0</td>\n",
       "      <td>1.997243</td>\n",
       "      <td>1</td>\n",
       "    </tr>\n",
       "    <tr>\n",
       "      <th>111589</th>\n",
       "      <td>-3.75</td>\n",
       "      <td>3.5</td>\n",
       "      <td>7.939881</td>\n",
       "      <td>0</td>\n",
       "    </tr>\n",
       "    <tr>\n",
       "      <th>139272</th>\n",
       "      <td>-3.75</td>\n",
       "      <td>1.0</td>\n",
       "      <td>1.820225</td>\n",
       "      <td>1</td>\n",
       "    </tr>\n",
       "    <tr>\n",
       "      <th>148803</th>\n",
       "      <td>-3.75</td>\n",
       "      <td>3.0</td>\n",
       "      <td>1.102572</td>\n",
       "      <td>4</td>\n",
       "    </tr>\n",
       "    <tr>\n",
       "      <th>150301</th>\n",
       "      <td>-3.00</td>\n",
       "      <td>1.0</td>\n",
       "      <td>0.065623</td>\n",
       "      <td>3</td>\n",
       "    </tr>\n",
       "    <tr>\n",
       "      <th>151681</th>\n",
       "      <td>-3.75</td>\n",
       "      <td>1.0</td>\n",
       "      <td>2.525749</td>\n",
       "      <td>2</td>\n",
       "    </tr>\n",
       "    <tr>\n",
       "      <th>157412</th>\n",
       "      <td>-3.50</td>\n",
       "      <td>1.0</td>\n",
       "      <td>0.538322</td>\n",
       "      <td>2</td>\n",
       "    </tr>\n",
       "    <tr>\n",
       "      <th>164056</th>\n",
       "      <td>-3.75</td>\n",
       "      <td>3.0</td>\n",
       "      <td>7.939881</td>\n",
       "      <td>1</td>\n",
       "    </tr>\n",
       "    <tr>\n",
       "      <th>179111</th>\n",
       "      <td>-3.50</td>\n",
       "      <td>1.0</td>\n",
       "      <td>0.273512</td>\n",
       "      <td>3</td>\n",
       "    </tr>\n",
       "    <tr>\n",
       "      <th>180444</th>\n",
       "      <td>-3.00</td>\n",
       "      <td>2.0</td>\n",
       "      <td>0.433584</td>\n",
       "      <td>6</td>\n",
       "    </tr>\n",
       "    <tr>\n",
       "      <th>190925</th>\n",
       "      <td>-3.75</td>\n",
       "      <td>1.0</td>\n",
       "      <td>0.882069</td>\n",
       "      <td>4</td>\n",
       "    </tr>\n",
       "  </tbody>\n",
       "</table>\n",
       "</div>"
      ],
      "text/plain": [
       "        fare_amount  passenger_count  distance  ride_week_day\n",
       "63395         -3.75              1.0  0.325306              1\n",
       "71246         -3.30              2.0  0.500646              3\n",
       "79903         -3.50              1.0  0.383918              4\n",
       "89322         -3.75              3.5  0.019203              1\n",
       "92063         -3.75              3.0  7.939881              4\n",
       "98875         -3.75              3.5  0.450054              4\n",
       "104080        -3.75              1.0  1.997243              1\n",
       "111589        -3.75              3.5  7.939881              0\n",
       "139272        -3.75              1.0  1.820225              1\n",
       "148803        -3.75              3.0  1.102572              4\n",
       "150301        -3.00              1.0  0.065623              3\n",
       "151681        -3.75              1.0  2.525749              2\n",
       "157412        -3.50              1.0  0.538322              2\n",
       "164056        -3.75              3.0  7.939881              1\n",
       "179111        -3.50              1.0  0.273512              3\n",
       "180444        -3.00              2.0  0.433584              6\n",
       "190925        -3.75              1.0  0.882069              4"
      ]
     },
     "execution_count": 367,
     "metadata": {},
     "output_type": "execute_result"
    }
   ],
   "source": [
    "dfc[df.fare_amount<0]"
   ]
  },
  {
   "cell_type": "markdown",
   "id": "602fde23",
   "metadata": {},
   "source": [
    "##### Ideally, fare amounts should not be zero. Only possibility is the case of 100% discounted rides, which involves negative fare in company's pov"
   ]
  },
  {
   "cell_type": "code",
   "execution_count": 368,
   "id": "c57b5c25",
   "metadata": {},
   "outputs": [
    {
     "name": "stderr",
     "output_type": "stream",
     "text": [
      "C:\\Users\\krant\\AppData\\Local\\Temp\\ipykernel_1508\\2004437674.py:1: UserWarning: Boolean Series key will be reindexed to match DataFrame index.\n",
      "  dft = dfc.drop(dfc[df.fare_amount<0].index)\n"
     ]
    },
    {
     "data": {
      "text/html": [
       "<div>\n",
       "<style scoped>\n",
       "    .dataframe tbody tr th:only-of-type {\n",
       "        vertical-align: middle;\n",
       "    }\n",
       "\n",
       "    .dataframe tbody tr th {\n",
       "        vertical-align: top;\n",
       "    }\n",
       "\n",
       "    .dataframe thead th {\n",
       "        text-align: right;\n",
       "    }\n",
       "</style>\n",
       "<table border=\"1\" class=\"dataframe\">\n",
       "  <thead>\n",
       "    <tr style=\"text-align: right;\">\n",
       "      <th></th>\n",
       "      <th>fare_amount</th>\n",
       "      <th>passenger_count</th>\n",
       "      <th>distance</th>\n",
       "      <th>ride_week_day</th>\n",
       "    </tr>\n",
       "  </thead>\n",
       "  <tbody>\n",
       "  </tbody>\n",
       "</table>\n",
       "</div>"
      ],
      "text/plain": [
       "Empty DataFrame\n",
       "Columns: [fare_amount, passenger_count, distance, ride_week_day]\n",
       "Index: []"
      ]
     },
     "execution_count": 368,
     "metadata": {},
     "output_type": "execute_result"
    }
   ],
   "source": [
    "dft = dfc.drop(dfc[df.fare_amount<0].index)\n",
    "dft[dft.fare_amount<0]"
   ]
  },
  {
   "cell_type": "code",
   "execution_count": 369,
   "id": "d7101631",
   "metadata": {
    "scrolled": true
   },
   "outputs": [
    {
     "data": {
      "text/html": [
       "<div>\n",
       "<style scoped>\n",
       "    .dataframe tbody tr th:only-of-type {\n",
       "        vertical-align: middle;\n",
       "    }\n",
       "\n",
       "    .dataframe tbody tr th {\n",
       "        vertical-align: top;\n",
       "    }\n",
       "\n",
       "    .dataframe thead th {\n",
       "        text-align: right;\n",
       "    }\n",
       "</style>\n",
       "<table border=\"1\" class=\"dataframe\">\n",
       "  <thead>\n",
       "    <tr style=\"text-align: right;\">\n",
       "      <th></th>\n",
       "      <th>passenger_count</th>\n",
       "      <th>distance</th>\n",
       "      <th>ride_week_day</th>\n",
       "    </tr>\n",
       "  </thead>\n",
       "  <tbody>\n",
       "    <tr>\n",
       "      <th>0</th>\n",
       "      <td>1.0</td>\n",
       "      <td>1.683323</td>\n",
       "      <td>3</td>\n",
       "    </tr>\n",
       "    <tr>\n",
       "      <th>1</th>\n",
       "      <td>1.0</td>\n",
       "      <td>2.457590</td>\n",
       "      <td>4</td>\n",
       "    </tr>\n",
       "    <tr>\n",
       "      <th>2</th>\n",
       "      <td>1.0</td>\n",
       "      <td>5.036377</td>\n",
       "      <td>0</td>\n",
       "    </tr>\n",
       "    <tr>\n",
       "      <th>3</th>\n",
       "      <td>3.0</td>\n",
       "      <td>1.661683</td>\n",
       "      <td>4</td>\n",
       "    </tr>\n",
       "    <tr>\n",
       "      <th>4</th>\n",
       "      <td>3.5</td>\n",
       "      <td>4.475450</td>\n",
       "      <td>3</td>\n",
       "    </tr>\n",
       "  </tbody>\n",
       "</table>\n",
       "</div>"
      ],
      "text/plain": [
       "   passenger_count  distance  ride_week_day\n",
       "0              1.0  1.683323              3\n",
       "1              1.0  2.457590              4\n",
       "2              1.0  5.036377              0\n",
       "3              3.0  1.661683              4\n",
       "4              3.5  4.475450              3"
      ]
     },
     "execution_count": 369,
     "metadata": {},
     "output_type": "execute_result"
    }
   ],
   "source": [
    "X = dfc.drop([\"fare_amount\"],axis = 1)\n",
    "X.head()"
   ]
  },
  {
   "cell_type": "code",
   "execution_count": 370,
   "id": "2cc0b6bd",
   "metadata": {},
   "outputs": [],
   "source": [
    "y = dfc[\"fare_amount\"]"
   ]
  },
  {
   "cell_type": "markdown",
   "id": "556d4ffb",
   "metadata": {},
   "source": [
    "### Train Test Split"
   ]
  },
  {
   "cell_type": "code",
   "execution_count": 371,
   "id": "83431b6c",
   "metadata": {},
   "outputs": [],
   "source": [
    "from sklearn.model_selection import train_test_split"
   ]
  },
  {
   "cell_type": "code",
   "execution_count": 372,
   "id": "676b19d0",
   "metadata": {},
   "outputs": [],
   "source": [
    "X_train, X_test, y_train, y_test = train_test_split(X, y, train_size = 0.70, random_state = 25)"
   ]
  },
  {
   "cell_type": "code",
   "execution_count": 373,
   "id": "6dab933d",
   "metadata": {},
   "outputs": [
    {
     "data": {
      "text/plain": [
       "137316"
      ]
     },
     "execution_count": 373,
     "metadata": {},
     "output_type": "execute_result"
    }
   ],
   "source": [
    "len(y_train)"
   ]
  },
  {
   "cell_type": "markdown",
   "id": "16337dca",
   "metadata": {},
   "source": [
    "### Model/Pipeline"
   ]
  },
  {
   "cell_type": "code",
   "execution_count": 374,
   "id": "38921c4e",
   "metadata": {},
   "outputs": [],
   "source": [
    "from sklearn.pipeline import Pipeline"
   ]
  },
  {
   "cell_type": "code",
   "execution_count": 375,
   "id": "a5926438",
   "metadata": {},
   "outputs": [],
   "source": [
    "from sklearn.preprocessing import PolynomialFeatures\n",
    "from sklearn.preprocessing import StandardScaler\n",
    "from sklearn.linear_model import LinearRegression"
   ]
  },
  {
   "cell_type": "code",
   "execution_count": 376,
   "id": "03faca77",
   "metadata": {},
   "outputs": [],
   "source": [
    "sc = StandardScaler()"
   ]
  },
  {
   "cell_type": "code",
   "execution_count": 489,
   "id": "a20e5b78",
   "metadata": {},
   "outputs": [],
   "source": [
    "pf = PolynomialFeatures(degree=3)"
   ]
  },
  {
   "cell_type": "markdown",
   "id": "ebcde258",
   "metadata": {},
   "source": [
    "### Lin Reg"
   ]
  },
  {
   "cell_type": "code",
   "execution_count": 490,
   "id": "7ad9c91d",
   "metadata": {},
   "outputs": [],
   "source": [
    "lr_model = LinearRegression()"
   ]
  },
  {
   "cell_type": "code",
   "execution_count": 491,
   "id": "375e37de",
   "metadata": {},
   "outputs": [],
   "source": [
    "steps = [(\"Poly_features\", pf),(\"scaling\",sc),(\"lor_model\", lr_model)]"
   ]
  },
  {
   "cell_type": "code",
   "execution_count": 492,
   "id": "6e269d45",
   "metadata": {},
   "outputs": [],
   "source": [
    "lr_pipeline = Pipeline(steps = steps, verbose = False)"
   ]
  },
  {
   "cell_type": "code",
   "execution_count": 493,
   "id": "9d021d1f",
   "metadata": {
    "scrolled": true
   },
   "outputs": [
    {
     "data": {
      "text/plain": [
       "Pipeline(steps=[('Poly_features', PolynomialFeatures(degree=3)),\n",
       "                ('scaling', StandardScaler()),\n",
       "                ('lor_model', LinearRegression())])"
      ]
     },
     "execution_count": 493,
     "metadata": {},
     "output_type": "execute_result"
    }
   ],
   "source": [
    "lr_pipeline.fit(X_train,y_train)"
   ]
  },
  {
   "cell_type": "markdown",
   "id": "08e8b87a",
   "metadata": {},
   "source": [
    "#### Prediction / Testing"
   ]
  },
  {
   "cell_type": "code",
   "execution_count": 494,
   "id": "e04b8f66",
   "metadata": {},
   "outputs": [],
   "source": [
    "y_pred = lr_pipeline.predict(X_test)"
   ]
  },
  {
   "cell_type": "code",
   "execution_count": 495,
   "id": "ed774e5b",
   "metadata": {},
   "outputs": [],
   "source": [
    "y_pred_train = lr_pipeline.predict(X_train)"
   ]
  },
  {
   "cell_type": "markdown",
   "id": "2970a6ef",
   "metadata": {},
   "source": [
    "### Evaluation"
   ]
  },
  {
   "cell_type": "code",
   "execution_count": 496,
   "id": "1f54f835",
   "metadata": {},
   "outputs": [],
   "source": [
    "y_test = y_test.astype(\"float\")"
   ]
  },
  {
   "cell_type": "code",
   "execution_count": 497,
   "id": "7c3aa134",
   "metadata": {},
   "outputs": [],
   "source": [
    "from sklearn.metrics import mean_absolute_error,mean_squared_error,r2_score"
   ]
  },
  {
   "cell_type": "code",
   "execution_count": 498,
   "id": "2ea041a3",
   "metadata": {},
   "outputs": [],
   "source": [
    "import math\n",
    "test_mae = np.round(mean_absolute_error(y_test, y_pred),2)\n",
    "test_mse = np.round(mean_squared_error(y_test, y_pred),2)\n",
    "test_rmse = np.round(math.sqrt(test_mse),2)\n",
    "test_r2s = np.round(r2_score(y_test, y_pred),2)"
   ]
  },
  {
   "cell_type": "code",
   "execution_count": 499,
   "id": "56fcccf8",
   "metadata": {},
   "outputs": [],
   "source": [
    "train_mae = np.round(mean_absolute_error(y_train, y_pred_train),2)\n",
    "train_mse = np.round(mean_squared_error(y_train, y_pred_train),2)\n",
    "train_rmse = np.round(math.sqrt(train_mse),2)\n",
    "train_r2s = np.round(r2_score(y_train, y_pred_train),2)"
   ]
  },
  {
   "cell_type": "code",
   "execution_count": 500,
   "id": "05788a61",
   "metadata": {},
   "outputs": [
    {
     "name": "stdout",
     "output_type": "stream",
     "text": [
      "Train Scores :: \n",
      "train_mae = 1.89\n",
      "train_rmse = 2.79\n",
      "train_r2s = 0.74\n",
      "\n",
      "Test Scores  :: \n",
      "test_mae = 1.9\n",
      "test_rmse = 2.8\n",
      "test_r2s = 0.74\n"
     ]
    }
   ],
   "source": [
    "print(f\"Train Scores :: \\ntrain_mae = {train_mae}\\ntrain_rmse = {train_rmse}\\ntrain_r2s = {train_r2s}\\n\\nTest Scores  :: \\ntest_mae = {test_mae}\\ntest_rmse = {test_rmse}\\ntest_r2s = {test_r2s}\")"
   ]
  },
  {
   "cell_type": "code",
   "execution_count": 503,
   "id": "3b5d1195",
   "metadata": {},
   "outputs": [
    {
     "name": "stdout",
     "output_type": "stream",
     "text": [
      "adjusted_train_r2 = 0.7399960236947013\n",
      "adjusted_test_r2 = 0.7399960236947013\n"
     ]
    }
   ],
   "source": [
    "n=len(dfc)\n",
    "k=len(X.columns)\n",
    "adjusted_train_r2 = 1.0 - (1-train_r2s)*(n-1)/(n-k-1)\n",
    "adjusted_test_r2 = 1.0 - (1-test_r2s)*(n-1)/(n-k-1)\n",
    "print(f\"adjusted_train_r2 = {adjusted_train_r2}\\nadjusted_test_r2 = {adjusted_test_r2}\")"
   ]
  },
  {
   "cell_type": "markdown",
   "id": "b7131ab3",
   "metadata": {},
   "source": [
    "### KNN"
   ]
  },
  {
   "cell_type": "code",
   "execution_count": 510,
   "id": "830a5c3f",
   "metadata": {},
   "outputs": [],
   "source": [
    "from sklearn.neighbors import KNeighborsRegressor "
   ]
  },
  {
   "cell_type": "code",
   "execution_count": 608,
   "id": "554335b5",
   "metadata": {},
   "outputs": [],
   "source": [
    "knn_model = KNeighborsRegressor(n_neighbors = 21)"
   ]
  },
  {
   "cell_type": "code",
   "execution_count": 609,
   "id": "ff2aeac0",
   "metadata": {},
   "outputs": [],
   "source": [
    "steps = [(\"scaling\",sc),(\"knn_model\", knn_model)]"
   ]
  },
  {
   "cell_type": "code",
   "execution_count": 610,
   "id": "bc320bd2",
   "metadata": {},
   "outputs": [],
   "source": [
    "knn_pipeline = Pipeline(steps = steps, verbose = False)"
   ]
  },
  {
   "cell_type": "code",
   "execution_count": 611,
   "id": "1de5a700",
   "metadata": {
    "scrolled": true
   },
   "outputs": [
    {
     "data": {
      "text/plain": [
       "Pipeline(steps=[('scaling', StandardScaler()),\n",
       "                ('knn_model', KNeighborsRegressor(n_neighbors=21))])"
      ]
     },
     "execution_count": 611,
     "metadata": {},
     "output_type": "execute_result"
    }
   ],
   "source": [
    "knn_pipeline.fit(X_train,y_train)"
   ]
  },
  {
   "cell_type": "markdown",
   "id": "d4d933c0",
   "metadata": {},
   "source": [
    "#### Prediction / Testing"
   ]
  },
  {
   "cell_type": "code",
   "execution_count": 612,
   "id": "00e66d68",
   "metadata": {},
   "outputs": [],
   "source": [
    "y_pred = knn_pipeline.predict(X_test)"
   ]
  },
  {
   "cell_type": "code",
   "execution_count": 613,
   "id": "134233ae",
   "metadata": {},
   "outputs": [],
   "source": [
    "y_pred_train = knn_pipeline.predict(X_train)"
   ]
  },
  {
   "cell_type": "markdown",
   "id": "ad36eee6",
   "metadata": {},
   "source": [
    "### Evaluation"
   ]
  },
  {
   "cell_type": "code",
   "execution_count": 614,
   "id": "7c53eec4",
   "metadata": {},
   "outputs": [],
   "source": [
    "y_test = y_test.astype(\"float\")"
   ]
  },
  {
   "cell_type": "code",
   "execution_count": 615,
   "id": "894ac750",
   "metadata": {},
   "outputs": [],
   "source": [
    "from sklearn.metrics import mean_absolute_error,mean_squared_error,r2_score"
   ]
  },
  {
   "cell_type": "code",
   "execution_count": 616,
   "id": "70371088",
   "metadata": {},
   "outputs": [],
   "source": [
    "import math\n",
    "test_mae = np.round(mean_absolute_error(y_test, y_pred),2)\n",
    "test_mse = np.round(mean_squared_error(y_test, y_pred),2)\n",
    "test_rmse = np.round(math.sqrt(test_mse),2)\n",
    "test_r2s = np.round(r2_score(y_test, y_pred),2)"
   ]
  },
  {
   "cell_type": "code",
   "execution_count": 617,
   "id": "27c887dd",
   "metadata": {},
   "outputs": [],
   "source": [
    "train_mae = np.round(mean_absolute_error(y_train, y_pred_train),2)\n",
    "train_mse = np.round(mean_squared_error(y_train, y_pred_train),2)\n",
    "train_rmse = np.round(math.sqrt(train_mse),2)\n",
    "train_r2s = np.round(r2_score(y_train, y_pred_train),2)"
   ]
  },
  {
   "cell_type": "code",
   "execution_count": 618,
   "id": "e940aa0d",
   "metadata": {},
   "outputs": [
    {
     "name": "stdout",
     "output_type": "stream",
     "text": [
      "Train Scores :: \n",
      "train_mae = 1.75\n",
      "train_rmse = 2.59\n",
      "train_r2s = 0.77\n",
      "\n",
      "Test Scores  :: \n",
      "test_mae = 1.83\n",
      "test_rmse = 2.7\n",
      "test_r2s = 0.76\n"
     ]
    }
   ],
   "source": [
    "print(f\"Train Scores :: \\ntrain_mae = {train_mae}\\ntrain_rmse = {train_rmse}\\ntrain_r2s = {train_r2s}\\n\\nTest Scores  :: \\ntest_mae = {test_mae}\\ntest_rmse = {test_rmse}\\ntest_r2s = {test_r2s}\")"
   ]
  },
  {
   "cell_type": "code",
   "execution_count": 619,
   "id": "fa912064",
   "metadata": {},
   "outputs": [
    {
     "name": "stdout",
     "output_type": "stream",
     "text": [
      "adjusted_train_r2 = 0.7699964824991589\n",
      "adjusted_test_r2 = 0.7599963295643397\n"
     ]
    }
   ],
   "source": [
    "n=len(dfc)\n",
    "k=len(X.columns)\n",
    "adjusted_train_r2 = 1.0 - (1-train_r2s)*(n-1)/(n-k-1)\n",
    "adjusted_test_r2 = 1.0 - (1-test_r2s)*(n-1)/(n-k-1)\n",
    "print(f\"adjusted_train_r2 = {adjusted_train_r2}\\nadjusted_test_r2 = {adjusted_test_r2}\")"
   ]
  },
  {
   "cell_type": "code",
   "execution_count": null,
   "id": "c611e247",
   "metadata": {},
   "outputs": [],
   "source": []
  },
  {
   "cell_type": "markdown",
   "id": "3cc23d1b",
   "metadata": {},
   "source": [
    "### DTR"
   ]
  },
  {
   "cell_type": "code",
   "execution_count": 620,
   "id": "0d4e53cf",
   "metadata": {},
   "outputs": [],
   "source": [
    "from sklearn.tree import DecisionTreeRegressor "
   ]
  },
  {
   "cell_type": "code",
   "execution_count": 771,
   "id": "d0806a1d",
   "metadata": {},
   "outputs": [],
   "source": [
    "dtr_model = DecisionTreeRegressor(random_state=50, max_depth=10, min_impurity_decrease=0.001)"
   ]
  },
  {
   "cell_type": "code",
   "execution_count": 772,
   "id": "14bc73ef",
   "metadata": {},
   "outputs": [],
   "source": [
    "steps = [(\"scaling\",sc),(\"dtr_model\", dtr_model)]"
   ]
  },
  {
   "cell_type": "code",
   "execution_count": 773,
   "id": "e1d372e8",
   "metadata": {},
   "outputs": [],
   "source": [
    "dtr_pipeline = Pipeline(steps = steps, verbose = False)"
   ]
  },
  {
   "cell_type": "code",
   "execution_count": 774,
   "id": "86349dd8",
   "metadata": {
    "scrolled": true
   },
   "outputs": [
    {
     "data": {
      "text/plain": [
       "Pipeline(steps=[('scaling', StandardScaler()),\n",
       "                ('dtr_model',\n",
       "                 DecisionTreeRegressor(max_depth=10,\n",
       "                                       min_impurity_decrease=0.001,\n",
       "                                       random_state=50))])"
      ]
     },
     "execution_count": 774,
     "metadata": {},
     "output_type": "execute_result"
    }
   ],
   "source": [
    "dtr_pipeline.fit(X_train,y_train)"
   ]
  },
  {
   "cell_type": "markdown",
   "id": "e6b38cbd",
   "metadata": {},
   "source": [
    "#### Prediction / Testing"
   ]
  },
  {
   "cell_type": "code",
   "execution_count": 775,
   "id": "6501ac6d",
   "metadata": {},
   "outputs": [],
   "source": [
    "y_pred = dtr_pipeline.predict(X_test)"
   ]
  },
  {
   "cell_type": "code",
   "execution_count": 776,
   "id": "f3f23959",
   "metadata": {},
   "outputs": [],
   "source": [
    "y_pred_train = dtr_pipeline.predict(X_train)"
   ]
  },
  {
   "cell_type": "markdown",
   "id": "1bde5a2e",
   "metadata": {},
   "source": [
    "### Evaluation"
   ]
  },
  {
   "cell_type": "code",
   "execution_count": 777,
   "id": "47f61536",
   "metadata": {},
   "outputs": [],
   "source": [
    "y_test = y_test.astype(\"float\")"
   ]
  },
  {
   "cell_type": "code",
   "execution_count": 778,
   "id": "be6c0402",
   "metadata": {},
   "outputs": [],
   "source": [
    "from sklearn.metrics import mean_absolute_error,mean_squared_error,r2_score"
   ]
  },
  {
   "cell_type": "code",
   "execution_count": 779,
   "id": "a81096da",
   "metadata": {},
   "outputs": [],
   "source": [
    "import math\n",
    "test_mae = np.round(mean_absolute_error(y_test, y_pred),2)\n",
    "test_mse = np.round(mean_squared_error(y_test, y_pred),2)\n",
    "test_rmse = np.round(math.sqrt(test_mse),2)\n",
    "test_r2s = np.round(r2_score(y_test, y_pred),2)"
   ]
  },
  {
   "cell_type": "code",
   "execution_count": 780,
   "id": "bb198913",
   "metadata": {},
   "outputs": [],
   "source": [
    "train_mae = np.round(mean_absolute_error(y_train, y_pred_train),2)\n",
    "train_mse = np.round(mean_squared_error(y_train, y_pred_train),2)\n",
    "train_rmse = np.round(math.sqrt(train_mse),2)\n",
    "train_r2s = np.round(r2_score(y_train, y_pred_train),2)"
   ]
  },
  {
   "cell_type": "code",
   "execution_count": 781,
   "id": "f9106857",
   "metadata": {},
   "outputs": [
    {
     "name": "stdout",
     "output_type": "stream",
     "text": [
      "Train Scores :: \n",
      "train_mae = 1.78\n",
      "train_rmse = 2.63\n",
      "train_r2s = 0.77\n",
      "\n",
      "Test Scores  :: \n",
      "test_mae = 1.79\n",
      "test_rmse = 2.65\n",
      "test_r2s = 0.77\n"
     ]
    }
   ],
   "source": [
    "print(f\"Train Scores :: \\ntrain_mae = {train_mae}\\ntrain_rmse = {train_rmse}\\ntrain_r2s = {train_r2s}\\n\\nTest Scores  :: \\ntest_mae = {test_mae}\\ntest_rmse = {test_rmse}\\ntest_r2s = {test_r2s}\")"
   ]
  },
  {
   "cell_type": "code",
   "execution_count": 782,
   "id": "2a11d917",
   "metadata": {},
   "outputs": [
    {
     "name": "stdout",
     "output_type": "stream",
     "text": [
      "adjusted_train_r2 = 0.7699964824991589\n",
      "adjusted_test_r2 = 0.7699964824991589\n"
     ]
    }
   ],
   "source": [
    "n=len(dfc)\n",
    "k=len(X.columns)\n",
    "adjusted_train_r2 = 1.0 - (1-train_r2s)*(n-1)/(n-k-1)\n",
    "adjusted_test_r2 = 1.0 - (1-test_r2s)*(n-1)/(n-k-1)\n",
    "print(f\"adjusted_train_r2 = {adjusted_train_r2}\\nadjusted_test_r2 = {adjusted_test_r2}\")"
   ]
  },
  {
   "cell_type": "code",
   "execution_count": null,
   "id": "3a4e5916",
   "metadata": {},
   "outputs": [],
   "source": []
  },
  {
   "cell_type": "markdown",
   "id": "d652ea4e",
   "metadata": {},
   "source": [
    "### RFR"
   ]
  },
  {
   "cell_type": "code",
   "execution_count": 791,
   "id": "602d06bc",
   "metadata": {},
   "outputs": [],
   "source": [
    "from sklearn.ensemble import RandomForestRegressor "
   ]
  },
  {
   "cell_type": "code",
   "execution_count": 848,
   "id": "d229e655",
   "metadata": {},
   "outputs": [],
   "source": [
    "rfr_model = RandomForestRegressor(n_estimators=100,criterion=\"squared_error\",random_state=50,max_depth=10)"
   ]
  },
  {
   "cell_type": "code",
   "execution_count": 849,
   "id": "560a43b2",
   "metadata": {},
   "outputs": [],
   "source": [
    "steps = [(\"scaling\",sc),(\"rfr_model\", rfr_model)]"
   ]
  },
  {
   "cell_type": "code",
   "execution_count": 850,
   "id": "46ac2bae",
   "metadata": {},
   "outputs": [],
   "source": [
    "rfr_pipeline = Pipeline(steps = steps, verbose = False)"
   ]
  },
  {
   "cell_type": "code",
   "execution_count": 851,
   "id": "d403ca25",
   "metadata": {
    "scrolled": true
   },
   "outputs": [
    {
     "data": {
      "text/plain": [
       "Pipeline(steps=[('scaling', StandardScaler()),\n",
       "                ('rfr_model',\n",
       "                 RandomForestRegressor(max_depth=10, random_state=50))])"
      ]
     },
     "execution_count": 851,
     "metadata": {},
     "output_type": "execute_result"
    }
   ],
   "source": [
    "rfr_pipeline.fit(X_train,y_train)"
   ]
  },
  {
   "cell_type": "markdown",
   "id": "cee9e957",
   "metadata": {},
   "source": [
    "#### Prediction / Testing"
   ]
  },
  {
   "cell_type": "code",
   "execution_count": 852,
   "id": "d731dfe6",
   "metadata": {},
   "outputs": [],
   "source": [
    "y_pred = rfr_pipeline.predict(X_test)"
   ]
  },
  {
   "cell_type": "code",
   "execution_count": 853,
   "id": "802fe289",
   "metadata": {},
   "outputs": [],
   "source": [
    "y_pred_train = rfr_pipeline.predict(X_train)"
   ]
  },
  {
   "cell_type": "markdown",
   "id": "71ec521e",
   "metadata": {},
   "source": [
    "### Evaluation"
   ]
  },
  {
   "cell_type": "code",
   "execution_count": 854,
   "id": "af1329c1",
   "metadata": {},
   "outputs": [],
   "source": [
    "y_test = y_test.astype(\"float\")"
   ]
  },
  {
   "cell_type": "code",
   "execution_count": 855,
   "id": "102ad0be",
   "metadata": {},
   "outputs": [],
   "source": [
    "from sklearn.metrics import mean_absolute_error,mean_squared_error,r2_score"
   ]
  },
  {
   "cell_type": "code",
   "execution_count": 856,
   "id": "e9bd908e",
   "metadata": {},
   "outputs": [],
   "source": [
    "import math\n",
    "test_mae = np.round(mean_absolute_error(y_test, y_pred),2)\n",
    "test_mse = np.round(mean_squared_error(y_test, y_pred),2)\n",
    "test_rmse = np.round(math.sqrt(test_mse),2)\n",
    "test_r2s = np.round(r2_score(y_test, y_pred),2)"
   ]
  },
  {
   "cell_type": "code",
   "execution_count": 857,
   "id": "40cf4185",
   "metadata": {},
   "outputs": [],
   "source": [
    "train_mae = np.round(mean_absolute_error(y_train, y_pred_train),2)\n",
    "train_mse = np.round(mean_squared_error(y_train, y_pred_train),2)\n",
    "train_rmse = np.round(math.sqrt(train_mse),2)\n",
    "train_r2s = np.round(r2_score(y_train, y_pred_train),2)"
   ]
  },
  {
   "cell_type": "code",
   "execution_count": 858,
   "id": "210e76c1",
   "metadata": {},
   "outputs": [
    {
     "name": "stdout",
     "output_type": "stream",
     "text": [
      "Train Scores :: \n",
      "train_mae = 1.75\n",
      "train_rmse = 2.57\n",
      "train_r2s = 0.78\n",
      "\n",
      "Test Scores  :: \n",
      "test_mae = 1.78\n",
      "test_rmse = 2.64\n",
      "test_r2s = 0.77\n"
     ]
    }
   ],
   "source": [
    "print(f\"Train Scores :: \\ntrain_mae = {train_mae}\\ntrain_rmse = {train_rmse}\\ntrain_r2s = {train_r2s}\\n\\nTest Scores  :: \\ntest_mae = {test_mae}\\ntest_rmse = {test_rmse}\\ntest_r2s = {test_r2s}\")"
   ]
  },
  {
   "cell_type": "code",
   "execution_count": 859,
   "id": "cf164af3",
   "metadata": {},
   "outputs": [
    {
     "name": "stdout",
     "output_type": "stream",
     "text": [
      "adjusted_train_r2 = 0.779996635433978\n",
      "adjusted_test_r2 = 0.7699964824991589\n"
     ]
    }
   ],
   "source": [
    "n=len(dfc)\n",
    "k=len(X.columns)\n",
    "adjusted_train_r2 = 1.0 - (1-train_r2s)*(n-1)/(n-k-1)\n",
    "adjusted_test_r2 = 1.0 - (1-test_r2s)*(n-1)/(n-k-1)\n",
    "print(f\"adjusted_train_r2 = {adjusted_train_r2}\\nadjusted_test_r2 = {adjusted_test_r2}\")"
   ]
  },
  {
   "cell_type": "markdown",
   "id": "db46d085",
   "metadata": {},
   "source": [
    "##### Conclusion - Linear Regression has the least adjusted R2 score"
   ]
  },
  {
   "cell_type": "code",
   "execution_count": null,
   "id": "8faa8cc6",
   "metadata": {},
   "outputs": [],
   "source": []
  },
  {
   "cell_type": "code",
   "execution_count": null,
   "id": "186c52f0",
   "metadata": {},
   "outputs": [],
   "source": []
  },
  {
   "cell_type": "code",
   "execution_count": null,
   "id": "7ef88ba7",
   "metadata": {},
   "outputs": [],
   "source": []
  }
 ],
 "metadata": {
  "kernelspec": {
   "display_name": "Python 3 (ipykernel)",
   "language": "python",
   "name": "python3"
  },
  "language_info": {
   "codemirror_mode": {
    "name": "ipython",
    "version": 3
   },
   "file_extension": ".py",
   "mimetype": "text/x-python",
   "name": "python",
   "nbconvert_exporter": "python",
   "pygments_lexer": "ipython3",
   "version": "3.9.13"
  }
 },
 "nbformat": 4,
 "nbformat_minor": 5
}
